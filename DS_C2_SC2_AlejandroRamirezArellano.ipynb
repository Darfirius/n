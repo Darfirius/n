{
  "nbformat": 4,
  "nbformat_minor": 0,
  "metadata": {
    "colab": {
      "provenance": []
    },
    "kernelspec": {
      "name": "python3",
      "display_name": "Python 3"
    },
    "language_info": {
      "name": "python"
    },
    "accelerator": "TPU",
    "gpuClass": "standard"
  },
  "cells": [
    {
      "cell_type": "markdown",
      "source": [
        "descomprimir el archivo"
      ],
      "metadata": {
        "id": "wKEIaU3Y1mmX"
      }
    },
    {
      "cell_type": "code",
      "execution_count": null,
      "metadata": {
        "id": "5SN1qvni0d1E"
      },
      "outputs": [],
      "source": [
        "!unzip /content/country_vaccinations.csv.zip"
      ]
    },
    {
      "cell_type": "markdown",
      "source": [
        "a. Extraer la información del archivo. "
      ],
      "metadata": {
        "id": "DSRkvUHW1rYy"
      }
    },
    {
      "cell_type": "code",
      "source": [
        "import pandas as pd\n",
        "vacunas=pd.read_csv(\"/content/country_vaccinations.csv.zip\")"
      ],
      "metadata": {
        "id": "pnSZ82cM10io"
      },
      "execution_count": 84,
      "outputs": []
    },
    {
      "cell_type": "markdown",
      "source": [
        "b. Mostrar la estructura y tipos de datos de cada columna para identificar qué operaciones puedes realizar con cada una de ellas, asegurándote que las columnas con fechas sean del tipo datetime64."
      ],
      "metadata": {
        "id": "8SW0_fIb2rrl"
      }
    },
    {
      "cell_type": "code",
      "source": [
        "vacunas.info()\n",
        "vacunas['date']=pd.to_datetime(vacunas['date'])"
      ],
      "metadata": {
        "id": "5WEdy-tZ2r-6"
      },
      "execution_count": null,
      "outputs": []
    },
    {
      "cell_type": "markdown",
      "source": [
        "c. Determinar la cantidad de vacunas aplicadas de cada compañía (con base en cómo lo reporta cada país en la columna vaccines). "
      ],
      "metadata": {
        "id": "CqW-gMWR2wbT"
      }
    },
    {
      "cell_type": "code",
      "source": [
        "vacunas.groupby('vaccines')['total_vaccinations'].sum()"
      ],
      "metadata": {
        "id": "NGchThmU4xir"
      },
      "execution_count": null,
      "outputs": []
    },
    {
      "cell_type": "markdown",
      "source": [
        "d. Obtener la cantidad de vacunas aplicadas en todo el mundo. "
      ],
      "metadata": {
        "id": "vDgW8aVz2zOY"
      }
    },
    {
      "cell_type": "code",
      "source": [
        "vacunas['total_vaccinations'].sum()"
      ],
      "metadata": {
        "id": "m-MyP6Y96XcD"
      },
      "execution_count": null,
      "outputs": []
    },
    {
      "cell_type": "markdown",
      "source": [
        "e. Calcular el promedio de vacunas aplicadas por país. "
      ],
      "metadata": {
        "id": "D52H7xpq23Ae"
      }
    },
    {
      "cell_type": "code",
      "source": [
        "vacunas.groupby('country')['total_vaccinations'].mean()"
      ],
      "metadata": {
        "id": "9emgzTJZ_otm"
      },
      "execution_count": null,
      "outputs": []
    },
    {
      "cell_type": "markdown",
      "source": [
        "f. Determinar la cantidad de vacunas aplicadas el día 29/01/21 en todo el mundo. "
      ],
      "metadata": {
        "id": "3sW3vn8z241M"
      }
    },
    {
      "cell_type": "code",
      "source": [
        "vacunas[vacunas['date']=='2021-01-29']['total_vaccinations'].sum()"
      ],
      "metadata": {
        "id": "TSfmVdNkEjV_"
      },
      "execution_count": null,
      "outputs": []
    },
    {
      "cell_type": "markdown",
      "source": [
        "g. Crear un dataframe nuevo denominado conDiferencias que contenga los datos originales y una columna derivada (diferencias) con las diferencias de aplicación entre las columnas daily_vaccionations y daily_vaccionations_raw.  "
      ],
      "metadata": {
        "id": "I5-eX6wJ27R2"
      }
    },
    {
      "cell_type": "code",
      "source": [
        "conDiferencias=vacunas.copy()\n",
        "conDiferencias['Diferencias']=conDiferencias['daily_vaccinations']-conDiferencias['daily_vaccinations_raw']"
      ],
      "metadata": {
        "id": "2pPEcDW5Hxal"
      },
      "execution_count": 90,
      "outputs": []
    },
    {
      "cell_type": "markdown",
      "source": [
        "h. Obtener el período de tiempo entre el registro con fecha más reciente y el registro con fecha más antigua. "
      ],
      "metadata": {
        "id": "DvW47Bu127-j"
      }
    },
    {
      "cell_type": "code",
      "source": [
        "vacunas['date'].max()-vacunas['date'].min()"
      ],
      "metadata": {
        "id": "zasQeS2AI1Zy"
      },
      "execution_count": null,
      "outputs": []
    },
    {
      "cell_type": "markdown",
      "source": [
        "i. Crear un dataframe nuevo denominado conCantidad que contenga los datos originales y una columna derivada (canVac) con la cantidad de vacunas utilizadas cada día (usar la columna vaccines y separar por el carácter /). "
      ],
      "metadata": {
        "id": "Q0LCB4Of2_dm"
      }
    },
    {
      "cell_type": "code",
      "source": [
        "conCantidad = vacunas.copy()\n",
        "for i, row in conCantidad.iterrows():\n",
        "    vaccines = row[\"vaccines\"].split(\",\")\n",
        "    can_vac = row[\"daily_vaccinations\"] / len(vaccines)\n",
        "    conCantidad.at[i, \"canVac\"] = can_vac"
      ],
      "metadata": {
        "id": "xHWqeKCfU7KT"
      },
      "execution_count": 103,
      "outputs": []
    },
    {
      "cell_type": "code",
      "source": [
        "conCantidad.head()"
      ],
      "metadata": {
        "id": "0vZz9jjZYhi5"
      },
      "execution_count": null,
      "outputs": []
    },
    {
      "cell_type": "markdown",
      "source": [
        "j. Generar un dataframe denominado antes20 con todos los registros que se hayan realizado antes del 20 de diciembre de 2020. "
      ],
      "metadata": {
        "id": "SdiS6j1t3BoU"
      }
    },
    {
      "cell_type": "code",
      "source": [
        "antes20 = vacunas.loc[vacunas['date'] < '2020-12-20']"
      ],
      "metadata": {
        "id": "65pJ8KOkRhUX"
      },
      "execution_count": 92,
      "outputs": []
    },
    {
      "cell_type": "markdown",
      "source": [
        "k. Obtener un dataframe denominado pfizer con todos los registros donde se haya utilizado la vacuna Pfizer. "
      ],
      "metadata": {
        "id": "ZS_mSoJB3EAA"
      }
    },
    {
      "cell_type": "code",
      "source": [
        "pfizer=vacunas[vacunas['vaccines'].str.contains('Pfizer')]"
      ],
      "metadata": {
        "id": "Ptek_WQqSUzi"
      },
      "execution_count": 93,
      "outputs": []
    },
    {
      "cell_type": "markdown",
      "source": [
        "l. Almacenar los dataframes generados (conDiferencias, conCantidad, antes20 y pfizer) en un archivo de Excel denominado resultadosReto.xlsx, donde cada dataframe ocupe una hoja diferente. Se recomienda ver la documentación de pd.ExcelWriter. "
      ],
      "metadata": {
        "id": "1QK3VGW53Es1"
      }
    },
    {
      "cell_type": "code",
      "source": [
        "with pd.ExcelWriter('resultadosReto.xlsx') as writer:\n",
        "    conDiferencias.to_excel(writer, sheet_name='conDiferencias', index=False)\n",
        "    conCantidad.to_excel(writer, sheet_name='conCantidad', index=False)\n",
        "    antes20.to_excel(writer, sheet_name='antes20', index=False)\n",
        "    pfizer.to_excel(writer, sheet_name='pfizer', index=False)"
      ],
      "metadata": {
        "id": "h2secdkYTj6M"
      },
      "execution_count": 101,
      "outputs": []
    }
  ]
}